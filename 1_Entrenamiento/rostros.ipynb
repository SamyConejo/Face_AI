{
  "nbformat": 4,
  "nbformat_minor": 0,
  "metadata": {
    "colab": {
      "provenance": [],
      "machine_shape": "hm"
    },
    "kernelspec": {
      "name": "python3",
      "display_name": "Python 3"
    },
    "language_info": {
      "name": "python"
    },
    "accelerator": "GPU"
  },
  "cells": [
    {
      "cell_type": "code",
      "source": [
        "from google.colab import drive\n",
        "drive.mount('/content/drive')"
      ],
      "metadata": {
        "colab": {
          "base_uri": "https://localhost:8080/"
        },
        "id": "gyeN5SZMyB6a",
        "outputId": "b8aabecd-dc92-49a3-a9e5-b52164b07a20"
      },
      "execution_count": null,
      "outputs": [
        {
          "output_type": "stream",
          "name": "stdout",
          "text": [
            "Mounted at /content/drive\n"
          ]
        }
      ]
    },
    {
      "cell_type": "code",
      "execution_count": null,
      "metadata": {
        "id": "kFsXrKUBkDZk"
      },
      "outputs": [],
      "source": [
        "\n",
        "\"\"\"\n",
        "Samy Conejo\n",
        "Proyecto Integrador\n",
        "Script para recortar fotograma de un video\n",
        "\"\"\"\n",
        "# librerias necesarios\n",
        "import os\n",
        "import cv2\n",
        "import time\n",
        "\n",
        "for i in range(10):\n",
        "    start_time = time.time()\n",
        "    count_video = 0\n",
        "    for video in os.listdir('drive/MyDrive/tesis/videos/persona_'+str(i)):\n",
        "        # captura el video\n",
        "        capture = cv2.VideoCapture('drive/MyDrive/tesis/videos/persona_'+str(i)+'/video'+str(count_video)+'.MOV')\n",
        "        cont_imagen = 0\n",
        "        # path donde se almacenan los frames\n",
        "        path = 'drive/MyDrive/tesis/frames/persona_'+str(i)+'/modulo_'+str(count_video)+\"/\"\n",
        "        # mientras se lea el videos\n",
        "        while capture.isOpened():\n",
        "            # captura el frame\n",
        "            ret, frame = capture.read()\n",
        "            if ret:\n",
        "                # almacena el frame en un archivo .jpg\n",
        "                cv2.imwrite(path + 'IMG_%04d.jpg' % cont_imagen, frame)\n",
        "                cont_imagen += 1\n",
        "                if cv2.waitKey(1) == ord('s'):\n",
        "                    break\n",
        "            else:\n",
        "                break\n",
        "        count_video +=1\n",
        "        # libera el video\n",
        "        capture.release()\n",
        "        cv2.destroyAllWindows()\n",
        "    print('persona',str(i)+' ',time.time() - start_time, 'seconds')"
      ]
    },
    {
      "cell_type": "code",
      "source": [
        "\"\"\"\n",
        "Samy Conejo\n",
        "Proyecto Integrador\n",
        "Script para detectar y extraer rostros de fotogramas\n",
        "\"\"\"\n",
        "import os\n",
        "\n",
        "from matplotlib import pyplot\n",
        "from PIL import Image\n",
        "from numpy import asarray\n",
        "from mtcnn.mtcnn import MTCNN\n",
        "import cv2\n",
        "\n",
        "\n",
        "detector = MTCNN()\n",
        "\n",
        "for i in range(10):\n",
        "    for j in range(10):\n",
        "        count_rostro = 0\n",
        "        for image in os.listdir('drive/MyDrive/tesis/frames/persona_'+str(i)+'/modulo_'+str(j)):\n",
        "            if image != '.ipynb_checkpoints':\n",
        "            \n",
        "              pixels = pyplot.imread ('drive/MyDrive/tesis/frames/persona_'+str(i)+'/modulo_'+str(j)+'/'+image)\n",
        "              # detecta el rostro en cada fotograma y lo almacena en una lista llamada results\n",
        "              results = detector.detect_faces(pixels)\n",
        "              # coordenadas de un rostro detectado\n",
        "              x1, y1, width, height = results[0]['box']\n",
        "              x2, y2 = x1 + width, y1 + height\n",
        "              # matriz de pixeles que determina un rostro\n",
        "              face = pixels[y1:y2, x1:x2]\n",
        "              # normalizacion del tamaño\n",
        "              image = Image.fromarray(face)\n",
        "              image = image.resize((224,224))\n",
        "              # guarda imagen\n",
        "              image.save('drive/MyDrive/tesis/rostros/persona_'+str(i)+'/modulo_'+str(j)+('/rostro_%04d.png' % count_rostro))\n",
        "              count_rostro +=1\n",
        "\n"
      ],
      "metadata": {
        "id": "z5hpbD2lOybw"
      },
      "execution_count": null,
      "outputs": []
    }
  ]
}